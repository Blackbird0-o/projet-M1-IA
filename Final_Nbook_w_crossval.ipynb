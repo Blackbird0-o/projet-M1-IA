{
  "nbformat": 4,
  "nbformat_minor": 0,
  "metadata": {
    "colab": {
      "name": "Copie de Final_Nbook_w_crossval.ipynb",
      "provenance": [],
      "collapsed_sections": [
        "O4DCDqXN-gsq",
        "sBXv4ImW_60C"
      ]
    },
    "kernelspec": {
      "name": "python3",
      "display_name": "Python 3"
    },
    "accelerator": "GPU"
  },
  "cells": [
    {
      "cell_type": "markdown",
      "metadata": {
        "id": "LbUFxk5L-jE0",
        "colab_type": "text"
      },
      "source": [
        "# DRIVE MOUNT"
      ]
    },
    {
      "cell_type": "code",
      "metadata": {
        "id": "jNPthfD396hf",
        "colab_type": "code",
        "outputId": "951c137c-4631-4e05-c4a8-1e10d39177d7",
        "colab": {
          "base_uri": "https://localhost:8080/",
          "height": 34
        }
      },
      "source": [
        "from google.colab import drive\n",
        "drive.mount('/content/drive')"
      ],
      "execution_count": 1,
      "outputs": [
        {
          "output_type": "stream",
          "text": [
            "Drive already mounted at /content/drive; to attempt to forcibly remount, call drive.mount(\"/content/drive\", force_remount=True).\n"
          ],
          "name": "stdout"
        }
      ]
    },
    {
      "cell_type": "markdown",
      "metadata": {
        "id": "O4DCDqXN-gsq",
        "colab_type": "text"
      },
      "source": [
        "# IMPORTS"
      ]
    },
    {
      "cell_type": "code",
      "metadata": {
        "id": "Z_d6cJdY-OPS",
        "colab_type": "code",
        "colab": {
          "base_uri": "https://localhost:8080/",
          "height": 0
        },
        "outputId": "213977ca-ef11-48f0-c7be-a0bde721ae5a"
      },
      "source": [
        "import numpy as np\n",
        "import matplotlib.pyplot as plt\n",
        "from sklearn.metrics import confusion_matrix, f1_score, precision_score, recall_score, mean_squared_error, roc_curve, roc_auc_score\n",
        "from sklearn.model_selection import train_test_split, KFold\n",
        "\n",
        "from keras import backend as K\n",
        "\n",
        "from keras.models import Sequential, Model\n",
        "from keras.layers import Activation, Dense, Dropout, Flatten, BatchNormalization, CuDNNLSTM, LSTM, Conv1D,UpSampling1D, MaxPool1D,MaxPooling1D, Permute, Reshape\n",
        "from keras.optimizers import RMSprop, adam\n",
        "from keras.utils import to_categorical\n",
        "\n",
        "import pywt\n",
        "import pandas as pd\n",
        "from matplotlib import cm\n",
        "\n",
        "from mpl_toolkits.mplot3d import Axes3D\n",
        "\n",
        "from imblearn.over_sampling import SMOTE\n",
        "from imblearn.base import BaseSampler\n",
        "from collections import Counter # counts the number of elements per class ({0: 5050, 1: 37})\n",
        "\n",
        "from sklearn.model_selection import train_test_split\n",
        "from sklearn.preprocessing import StandardScaler, MinMaxScaler\n",
        "from sklearn.decomposition import PCA\n"
      ],
      "execution_count": 2,
      "outputs": [
        {
          "output_type": "stream",
          "text": [
            "Using TensorFlow backend.\n"
          ],
          "name": "stderr"
        },
        {
          "output_type": "display_data",
          "data": {
            "text/html": [
              "<p style=\"color: red;\">\n",
              "The default version of TensorFlow in Colab will soon switch to TensorFlow 2.x.<br>\n",
              "We recommend you <a href=\"https://www.tensorflow.org/guide/migrate\" target=\"_blank\">upgrade</a> now \n",
              "or ensure your notebook will continue to use TensorFlow 1.x via the <code>%tensorflow_version 1.x</code> magic:\n",
              "<a href=\"https://colab.research.google.com/notebooks/tensorflow_version.ipynb\" target=\"_blank\">more info</a>.</p>\n"
            ],
            "text/plain": [
              "<IPython.core.display.HTML object>"
            ]
          },
          "metadata": {
            "tags": []
          }
        },
        {
          "output_type": "stream",
          "text": [
            "/usr/local/lib/python3.6/dist-packages/sklearn/externals/six.py:31: DeprecationWarning: The module is deprecated in version 0.21 and will be removed in version 0.23 since we've dropped support for Python 2.7. Please rely on the official version of six (https://pypi.org/project/six/).\n",
            "  \"(https://pypi.org/project/six/).\", DeprecationWarning)\n"
          ],
          "name": "stderr"
        }
      ]
    },
    {
      "cell_type": "markdown",
      "metadata": {
        "id": "pxq8Xdhw-bNr",
        "colab_type": "text"
      },
      "source": [
        "# DATA PROCESSING"
      ]
    },
    {
      "cell_type": "code",
      "metadata": {
        "id": "JPQseyW3-P4g",
        "colab_type": "code",
        "colab": {}
      },
      "source": [
        "def RPN(x):\n",
        "    '''\n",
        "    Calcule la RPN d'un signal (Relative Power Noise)\n",
        "    input :\n",
        "        x = array numpy, le signal dont on souhaite calculer la RPN\n",
        "        \n",
        "    output :\n",
        "        x_RPN = array numpy, la RPN du signal\n",
        "        '''\n",
        "    mean = np.mean(x,axis=1).reshape(x.shape[0],1)\n",
        "    return (x-mean)/mean\n",
        "  \n",
        "def shuffle(x,y):\n",
        "    # shuffle\n",
        "    index = np.arange(y.shape[0])\n",
        "    np.random.shuffle(index)\n",
        "    x = x[index]\n",
        "    y = y[index]\n",
        "    \n",
        "    return x,y\n",
        "    \n",
        "def bootstrap(x_train,y_train,inv=True) :\n",
        "    if inv :\n",
        "      x_train,y_train = inv_data(x_train,y_train)\n",
        "      \n",
        "    x_train1 = x_train[np.where(y_train == 1)[0]] #Separation du train_set selon le label\n",
        "    x_train0 = x_train[np.where(y_train == 0)[0]]\n",
        "    index_train = np.random.randint(0,x_train1.shape[0] , size=x_train0.shape[0]) #genere une liste d'index \n",
        "                                                                                  #aléatoire pour equilibrer les données\n",
        "    x_train_1_boot = x_train1[index_train]\n",
        "    y_train_boot = np.concatenate((np.ones(x_train0.shape[0]),np.zeros(x_train0.shape[0]))) #on génère une liste de labels avec autant de 1 que de 0\n",
        "    x_train_boot = np.concatenate((x_train_1_boot,x_train0)) #on rassemble les données une fois équilibrées\n",
        "    \n",
        "    x_train_boot,y_train_boot  = shuffle(x_train_boot,y_train_boot)\n",
        "    \n",
        "    return x_train_boot,y_train_boot\n",
        "\n",
        "def dataload(path='data/',merge=True) :\n",
        "    # Loading datas\n",
        "    data_train = pd.read_csv(path+'exoTrain.csv')\n",
        "    data_test = pd.read_csv(path+'exoTest.csv')\n",
        "    \n",
        "    # transformation des label en array de 0 et 1\n",
        "    y_train = np.array(data_train[\"LABEL\"])-1\n",
        "    y_test = np.array(data_test['LABEL'])-1\n",
        "    \n",
        "    # on charge les features\n",
        "    x_train = np.array(data_train.drop('LABEL',axis=1))\n",
        "    x_test = np.array(data_test.drop('LABEL',axis=1))\n",
        "    \n",
        "    if merge :\n",
        "      data = np.concatenate((x_train,x_test))\n",
        "      y = np.concatenate((y_train,y_test))\n",
        "      data0 = data[np.where(y==0)[0]]\n",
        "      y0 = y[np.where(y==0)[0]]\n",
        "      data1 = data[np.where(y==1)[0]]\n",
        "      y1 = y[np.where(y==1)[0]]\n",
        "      \n",
        "      x_train0,x_test0,y_train0,y_test0 = train_test_split(data0,y0, test_size = 0.1)\n",
        "      x_train1,x_test1,y_train1,y_test1 = train_test_split(data1,y1, test_size = 0.1)\n",
        "      \n",
        "      x_train = np.concatenate((x_train0,x_train1))\n",
        "      y_train = np.concatenate((y_train0,y_train1))\n",
        "      x_test = np.concatenate((x_test0,x_test1))\n",
        "      y_test = np.concatenate((y_test0,y_test1))\n",
        "      \n",
        "      x_train,y_train = shuffle(x_train,y_train)\n",
        "      x_test,y_test = shuffle(x_test,y_test)\n",
        "    \n",
        "    return x_train,y_train,x_test,y_test\n",
        "\n",
        "def pcaPlot(X, y, descr= 'temporel',plot_samples = 500):\n",
        "  '''\n",
        "  Defines and 10 components PCA of the dataset X and plots the first 3\n",
        "  '''\n",
        "  pca = PCA(n_components=10)\n",
        "  x_PCA = pca.fit_transform(X)\n",
        "\n",
        "  # let's visualize the data in 3d\n",
        "  fig = plt.figure()\n",
        "  ax = fig.add_subplot(111, projection='3d')\n",
        "  ax.set_xlabel('Principal Component 1', fontsize = 15)\n",
        "  ax.set_ylabel('Principal Component 2', fontsize = 15)\n",
        "  ax.set_zlabel('Principal Component 3', fontsize = 15)\n",
        "  ax.set_title('ACP du signal ' + descr, fontsize = 20)\n",
        "  targets = [0,1]\n",
        "  colors = ['b', 'r']\n",
        "  x_PCA_plot = x_PCA[0:plot_samples]\n",
        "\n",
        "  for target, color in zip(targets,colors):\n",
        "      indexes = np.where(y[0:plot_samples] == target)\n",
        "      ax.scatter(x_PCA_plot[indexes,0]\n",
        "                , x_PCA_plot[indexes,1],\n",
        "                x_PCA_plot[indexes,2]\n",
        "                , c = color\n",
        "                , s = 50)\n",
        "  ax.legend(['pas d\\'exoplanetes', 'exoplanetes'])\n",
        "  ax.grid()\n",
        "  plt.show()\n",
        "  return None\n",
        "\n",
        "#Make an identity sampler\n",
        "class FakeSampler(BaseSampler):\n",
        "\n",
        "    _sampling_type = 'bypass'\n",
        "\n",
        "    def _fit_resample(self, X, y):\n",
        "        return X, y\n",
        "\n",
        "def plot_resampling(X, y, sampling, ax):\n",
        "    X_res, y_res = sampling.fit_resample(X, y)\n",
        "    ax.scatter(X_res[:, 0], X_res[:, 1], c=y_res, alpha=0.8, edgecolor='k')\n",
        "    ax.spines['top'].set_visible(False)\n",
        "    ax.spines['right'].set_visible(False)\n",
        "    ax.get_xaxis().tick_bottom()\n",
        "    ax.get_yaxis().tick_left()\n",
        "    ax.spines['left'].set_position(('outward', 10))\n",
        "    ax.spines['bottom'].set_position(('outward', 10))\n",
        "    return Counter(y_res)\n",
        "\n",
        "def SMOTE_plot(x_train, y_train):\n",
        "  sampler = FakeSampler()\n",
        "\n",
        "  fig, (ax1, ax2) = plt.subplots(1, 2, figsize=(15, 15))\n",
        "  plot_resampling(x_train, y_train, sampler, ax1)\n",
        "  ax1.set_title('Original data - y={}'.format(Counter(y_train)))\n",
        "\n",
        "  plot_resampling(x_train, y_train, SMOTE(random_state = 0), ax2)\n",
        "  ax2.set_title('Resampling using {}'.format(SMOTE(random_state=0).__class__.__name__))\n",
        "  fig.tight_layout()\n",
        "  plt.show()\n",
        "  return None\n",
        "\n",
        "def transform_dataset(X, mode='wavelet', wname='db5',nsamples=10):\n",
        "  if mode == 'wavelet':\n",
        "    return pywt.dwt(X, wname)[0][:,0:nsamples]\n",
        "\n",
        "  elif mode == 'fft':\n",
        "    return np.abs(np.fft.fft(X))[:,0:nsamples]\n",
        "\n",
        "  elif mode == 'all_in':\n",
        "    allz = np.abs(np.fft.fft(X))[:,0:nsamples]\n",
        "    wnames = ['db5','sym5','coif5','bior2.4']\n",
        "    for wn in wnames:\n",
        "      np.append(allz, pywt.dwt(X, wn)[0][:,0:nsamples], axis=1)\n",
        "    return allz\n",
        "\n",
        "def scale_datasets(X_train, X_test, param='standardScaling', reshape=True):\n",
        "  SC = StandardScaler()\n",
        "  train_shape = X_train.shape\n",
        "  test_shape = X_test.shape\n",
        "    \n",
        "  if param == 'standardScaling':\n",
        "    SC.fit(X_train)\n",
        "    if reshape:\n",
        "      return SC.transform(X_train).reshape(train_shape[0],train_shape[1],1), SC.transform(X_test).reshape(test_shape[0],test_shape[1],1)\n",
        "    else :\n",
        "      return SC.transform(X_train), SC.transform(X_test)\n",
        "\n",
        "  elif param == 'RPN':\n",
        "    \n",
        "    mean_train = np.mean(X_train,axis=1).reshape(X_train.shape[0],1)\n",
        "    mean_test = np.mean(X_test,axis=1).reshape(X_test.shape[0],1)\n",
        "    \n",
        "    norm_train = np.max(np.abs(X_train),axis=1).reshape(-1,1)#np.linalg.norm(X_train,axis=1).reshape(-1,1)\n",
        "    norm_test = np.max(np.abs(X_test),axis=1).reshape(-1,1)#np.linalg.norm(X_test,axis=1).reshape(-1,1)\n",
        "    \n",
        "    if reshape:\n",
        "      return ((X_train-mean_train)/norm_train) .reshape(train_shape[0],train_shape[1],1) , ((X_test-mean_test)/norm_test) .reshape(test_shape[0],test_shape[1],1)\n",
        "    else :\n",
        "      return ((X_train-mean_train)/norm_train)  , ((X_test-mean_test)/norm_test) \n",
        "    \n",
        "    \n",
        "  elif param == 'transpose':\n",
        "    X_train = np.transpose(X_train)\n",
        "    if train_shape != test_shape :\n",
        "      X_test = np.tile(X_test,(10,1))[0:train_shape[0]]\n",
        "    X_test = np.transpose(X_test)\n",
        "    SC.fit(X_train)\n",
        "    if reshape:\n",
        "      return np.transpose(SC.transform(X_train)).reshape(train_shape[0],train_shape[1],1), np.transpose(SC.transform(X_test))[0:test_shape[0]].reshape(test_shape[0],test_shape[1],1)\n",
        "    else :\n",
        "      return np.transpose(SC.transform(X_train)), np.transpose(SC.transform(X_test))[0:test_shape[0]]\n",
        "    \n",
        "  elif param == 'flatten':\n",
        "    X_train = X_train.flatten().reshape((-1,1))\n",
        "    X_test = X_test.flatten().reshape((-1,1))\n",
        "    SC.fit(X_train)\n",
        "    if reshape:\n",
        "      return SC.transform(X_train).reshape(train_shape[0],train_shape[1],1), SC.transform(X_test).reshape(test_shape[0],test_shape[1],1)\n",
        "    else :\n",
        "      return SC.transform(X_train).reshape(train_shape[0],train_shape[1]), SC.transform(X_test).reshape(test_shape[0],test_shape[1])\n",
        "  \n",
        "  elif param == 'norm':\n",
        "    norm_train = np.linalg.norm(X_train,axis=1).reshape(-1,1)\n",
        "    norm_test = np.linalg.norm(X_test,axis=1).reshape(-1,1)\n",
        "    if reshape:\n",
        "      return (X_train/norm_train).reshape(train_shape[0],train_shape[1],1), (X_test/norm_test).reshape(test_shape[0],test_shape[1],1)\n",
        "    else :\n",
        "      return X_train/norm_train, X_test/norm_test\n",
        "    \n",
        "  elif param == 'norm_flatten':\n",
        "    norm_train = np.linalg.norm(X_train)\n",
        "    norm_test = np.linalg.norm(X_test,axis=1).reshape(-1,1)\n",
        "    if reshape:\n",
        "      return (X_train/norm_train).reshape(train_shape[0],train_shape[1],1), (X_test/norm_train).reshape(test_shape[0],test_shape[1],1)\n",
        "    else :\n",
        "      return X_train/norm_train, X_test/norm_train\n",
        "\n",
        "def inv_data(X, y):\n",
        "  X_flipped = np.flip(X[np.where(y == 1)[0]], 1)\n",
        "  y_flipped = np.ones((X_flipped.shape[0]))\n",
        "  return np.concatenate((X, X_flipped)), np.concatenate((y, y_flipped))"
      ],
      "execution_count": 0,
      "outputs": []
    },
    {
      "cell_type": "markdown",
      "metadata": {
        "id": "sBXv4ImW_60C",
        "colab_type": "text"
      },
      "source": [
        "# METRICS\n"
      ]
    },
    {
      "cell_type": "code",
      "metadata": {
        "id": "YALCfl9M_-KW",
        "colab_type": "code",
        "colab": {}
      },
      "source": [
        "def metrics_scores_cross(y_true, pred, display=False):\n",
        "  '''\n",
        "  Evaluates predictions of a model\n",
        "  Input : \n",
        "    real : numpy array, real labels\n",
        "    result : numpy array, predicted labels\n",
        "    display : parameter (Boolean), if True then prints all metrics value\n",
        "  Output :\n",
        "    confusion : numpy array, confusion matrix\n",
        "  '''\n",
        "\n",
        "  pred_int = np.rint(pred)\n",
        "  confusion = confusion_matrix(y_true, pred_int)\n",
        "  fpr, tpr, _ = roc_curve(y_true, pred)\n",
        "  roc_score = roc_auc_score(y_true, pred)\n",
        "  \n",
        "  if display:\n",
        "    print('Precision :')\n",
        "    print(precision_score(y_true, pred_int))\n",
        "    print('Recall :')\n",
        "    print(recall_score(y_true, pred_int))\n",
        "    print('F1 Score :')\n",
        "    print(f1_score(y_true, pred_int))\n",
        "    print('MSE :')\n",
        "    print('')\n",
        "    print(mean_squared_error(y_true, pred_int))\n",
        "    print('confusion_matrix : ')\n",
        "    print(confusion)\n",
        "    print('')\n",
        "    print('area under roc curve : ',roc_score)\n",
        "    plt.plot(fpr,tpr)\n",
        "    plt.xlabel('false positiv rate')\n",
        "    plt.ylabel('true positiv rate')\n",
        "    plt.show()\n",
        "  \n",
        "  return confusion, roc_score\n",
        "\n",
        "def recall(y_true, y_pred):\n",
        "  '''\n",
        "  Defines Recall metric.\n",
        "  '''\n",
        "\n",
        "  true_positives = K.sum(K.round(K.clip(y_true * y_pred, 0, 1)))\n",
        "  possible_positives = K.sum(K.round(K.clip(y_true, 0, 1)))\n",
        "  return true_positives / (possible_positives + K.epsilon())\n",
        "\n",
        "def precision(y_true, y_pred):\n",
        "  '''\n",
        "  Defines Precision metric.\n",
        "  '''\n",
        "\n",
        "  true_positives = K.sum(K.round(K.clip(y_true * y_pred, 0, 1)))\n",
        "  predicted_positives = K.sum(K.round(K.clip(y_pred, 0, 1)))\n",
        "  return true_positives / (predicted_positives + K.epsilon())\n",
        "\n",
        "def f1(y_true, y_pred):\n",
        "  '''\n",
        "  Defines f1 metric.\n",
        "  '''\n",
        "  \n",
        "  preci = precision(y_true, y_pred)\n",
        "  rec = recall(y_true, y_pred)\n",
        "  return 2*((preci*rec)/(preci+rec+K.epsilon()))\n"
      ],
      "execution_count": 0,
      "outputs": []
    },
    {
      "cell_type": "markdown",
      "metadata": {
        "id": "Ml5ft1czAcVD",
        "colab_type": "text"
      },
      "source": [
        "# CROSS VALIDATION\n"
      ]
    },
    {
      "cell_type": "markdown",
      "metadata": {
        "id": "D83iTNYAAobP",
        "colab_type": "text"
      },
      "source": [
        "## Data load"
      ]
    },
    {
      "cell_type": "code",
      "metadata": {
        "id": "C0D-gXb0F960",
        "colab_type": "code",
        "colab": {}
      },
      "source": [
        "def data_load_for_cross(path='drive/My Drive/data/'):\n",
        "  '''\n",
        "  Loads data into one single dataset. \n",
        "  Takes only the path as parameter and returns two numpy arrays X and y\n",
        "  '''\n",
        "\n",
        "  # Loading data\n",
        "  data_train = pd.read_csv(path+'exoTrain.csv')\n",
        "  data_test = pd.read_csv(path+'exoTest.csv')\n",
        "  \n",
        "  # Transform labels into arrays of zeros and ones\n",
        "  y_train = np.array(data_train[\"LABEL\"])-1\n",
        "  y_test = np.array(data_test['LABEL'])-1\n",
        "  \n",
        "  # Load features\n",
        "  x_train = np.array(data_train.drop('LABEL',axis=1))\n",
        "  x_test = np.array(data_test.drop('LABEL',axis=1))\n",
        "  \n",
        "  # Merge datasets\n",
        "  X = np.concatenate((x_train,x_test))\n",
        "  y = np.concatenate((y_train,y_test))\n",
        "\n",
        "  return X, y"
      ],
      "execution_count": 0,
      "outputs": []
    },
    {
      "cell_type": "code",
      "metadata": {
        "id": "_hI6h7wmAeRg",
        "colab_type": "code",
        "colab": {}
      },
      "source": [
        "x, y = data_load_for_cross()"
      ],
      "execution_count": 0,
      "outputs": []
    },
    {
      "cell_type": "markdown",
      "metadata": {
        "id": "c23oHduTRNhA",
        "colab_type": "text"
      },
      "source": [
        "## Functions\n"
      ]
    },
    {
      "cell_type": "code",
      "metadata": {
        "id": "hsYRsmC4Z33p",
        "colab_type": "code",
        "colab": {}
      },
      "source": [
        "def maxinet_cross(x_train,y_train,x_test,y_test, tst=False):\n",
        "  model = Sequential()\n",
        "\n",
        "  model.add(Conv1D(16, 200, activation='relu', padding='same', input_shape=x_train.shape[1:]))\n",
        "  model.add(MaxPooling1D(4, padding='same'))\n",
        "  model.add(Conv1D(8, 100, activation='relu', padding='same'))\n",
        "  model.add(MaxPooling1D(4, padding='same'))\n",
        "  model.add(Conv1D(4, 10, activation='relu', padding='same'))\n",
        "  model.add(Dropout(0.2))\n",
        "  model.add(CuDNNLSTM(200, return_sequences=True))\n",
        "  model.add(Dropout(0.2))\n",
        "  model.add(CuDNNLSTM(70, return_sequences=True)) \n",
        "  model.add(Dropout(0.2))\n",
        "  model.add(CuDNNLSTM(10)) \n",
        "  model.add(Dropout(0.2))\n",
        "\n",
        "  model.add(Dense(1, activation='sigmoid'))\n",
        "\n",
        "  model.compile(optimizer='adam', loss='binary_crossentropy',metrics=[recall, precision]) #[f1, precision, \"accuracy\"]\n",
        "  if tst:\n",
        "    model.fit(x_train, y_train,\n",
        "                    epochs=1,\n",
        "                    shuffle = True,\n",
        "                    batch_size=128)\n",
        "  else:\n",
        "    model.fit(x_train, y_train,\n",
        "                    epochs=6,\n",
        "                    shuffle = True,\n",
        "                    batch_size=32)\n",
        "  \n",
        "\n",
        "  return model.predict(x_test)"
      ],
      "execution_count": 0,
      "outputs": []
    },
    {
      "cell_type": "code",
      "metadata": {
        "id": "CbDeUS9lRo66",
        "colab_type": "code",
        "colab": {}
      },
      "source": [
        "def cross_validation(X, y, splits=5, testing=False):\n",
        "  # Separate exoplanet stars from non-exoplanet stars\n",
        "  x_stars = X[np.where(y==0)]\n",
        "  y_stars = y[np.where(y==0)]\n",
        "  x_exo = X[np.where(y==1)]\n",
        "  y_exo = y[np.where(y==1)]\n",
        "\n",
        "  # Create splits\n",
        "  kf = KFold(n_splits=splits, random_state=None, shuffle=False)\n",
        "  split_stars = kf.split(x_stars)\n",
        "  split_exo = kf.split(x_exo)\n",
        "  scores = np.zeros((splits, 2, 2))\n",
        "  ROC = np.zeros(splits)\n",
        "  ID_issues = np.zeros(splits)\n",
        "\n",
        "  for k in range(splits):\n",
        "    # A bit of info\n",
        "    print(\"Running split number \", k + 1)\n",
        "\n",
        "    # Define splits\n",
        "    spS = next(split_stars)\n",
        "    spE = next(split_exo)\n",
        "    idx_tra_S = spS[0]\n",
        "    idx_tst_S = spS[1]\n",
        "    idx_tra_E = spE[0]\n",
        "    idx_tst_E = spE[1]\n",
        "\n",
        "    # Create train and test sets\n",
        "    x_tra = np.concatenate((x_stars[idx_tra_S], x_exo[idx_tra_E]))\n",
        "    y_tra = np.concatenate((y_stars[idx_tra_S], y_exo[idx_tra_E]))\n",
        "    x_tst = np.concatenate((x_stars[idx_tst_S], x_exo[idx_tst_E]))\n",
        "    y_tst = np.concatenate((y_stars[idx_tst_S], y_exo[idx_tst_E]))\n",
        "\n",
        "    # Shuffle datasets\n",
        "    x_tra, y_tra = shuffle(x_tra, y_tra)\n",
        "    x_tst, y_tst = shuffle(x_tst, y_tst)\n",
        "\n",
        "    # Bootstrap datasets\n",
        "    x_tra, y_tra = bootstrap(x_tra, y_tra)\n",
        "    x_tst, y_tst = bootstrap(x_tst, y_tst, inv=False)\n",
        "\n",
        "    # Scale datasets\n",
        "    x_tra, x_tst = scale_datasets(x_tra, x_tst, param='RPN')\n",
        "\n",
        "    # Run and evaluate NN\n",
        "    pred = maxinet_cross(x_tra, y_tra, x_tst, y_tst, tst=testing)\n",
        "    scores[k], ROC[k] = metrics_scores_cross(y_tst, pred,display=True)\n",
        "\n",
        "  return scores, ROC"
      ],
      "execution_count": 0,
      "outputs": []
    },
    {
      "cell_type": "markdown",
      "metadata": {
        "id": "g4BfIpijFzRn",
        "colab_type": "text"
      },
      "source": [
        "## Testing"
      ]
    },
    {
      "cell_type": "code",
      "metadata": {
        "id": "Ki7Gd63Hbz-o",
        "colab_type": "code",
        "outputId": "b78ddec2-8b4f-43c5-c9db-1ccb55d0f0e6",
        "colab": {
          "base_uri": "https://localhost:8080/",
          "height": 1000
        }
      },
      "source": [
        "Scores, Roc = cross_validation(x, y, 7, testing = False)"
      ],
      "execution_count": 26,
      "outputs": [
        {
          "output_type": "stream",
          "text": [
            "Running split number  1\n",
            "Epoch 1/6\n",
            "9624/9624 [==============================] - 17s 2ms/step - loss: 0.6117 - recall: 0.5457 - precision: 0.6632\n",
            "Epoch 2/6\n",
            "9624/9624 [==============================] - 13s 1ms/step - loss: 0.2812 - recall: 0.9264 - precision: 0.8790\n",
            "Epoch 3/6\n",
            "9624/9624 [==============================] - 13s 1ms/step - loss: 0.2645 - recall: 0.9514 - precision: 0.8960\n",
            "Epoch 4/6\n",
            "9624/9624 [==============================] - 13s 1ms/step - loss: 0.3219 - recall: 0.9109 - precision: 0.8585\n",
            "Epoch 5/6\n",
            "9624/9624 [==============================] - 13s 1ms/step - loss: 0.2229 - recall: 0.9609 - precision: 0.8988\n",
            "Epoch 6/6\n",
            "9624/9624 [==============================] - 13s 1ms/step - loss: 0.1348 - recall: 0.9845 - precision: 0.9487\n",
            "Precision :\n",
            "0.9114642451759364\n",
            "Recall :\n",
            "1.0\n",
            "F1 Score :\n",
            "0.9536817102137767\n",
            "MSE :\n",
            "\n",
            "0.048567870485678705\n",
            "confusion_matrix : \n",
            "[[725  78]\n",
            " [  0 803]]\n",
            "\n",
            "area under roc curve :  0.9768148397432418\n"
          ],
          "name": "stdout"
        },
        {
          "output_type": "display_data",
          "data": {
            "image/png": "[encoded data removed]",
            "text/plain": [
              "<Figure size 432x288 with 1 Axes>"
            ]
          },
          "metadata": {
            "tags": []
          }
        },
        {
          "output_type": "stream",
          "text": [
            "Running split number  2\n",
            "Epoch 1/6\n",
            "9626/9626 [==============================] - 18s 2ms/step - loss: 0.6919 - recall: 0.4795 - precision: 0.5073\n",
            "Epoch 2/6\n",
            "9626/9626 [==============================] - 13s 1ms/step - loss: 0.6501 - recall: 0.5297 - precision: 0.6185\n",
            "Epoch 3/6\n",
            "9626/9626 [==============================] - 13s 1ms/step - loss: 0.6046 - recall: 0.5460 - precision: 0.7744\n",
            "Epoch 4/6\n",
            "9626/9626 [==============================] - 13s 1ms/step - loss: 0.4947 - recall: 0.6999 - precision: 0.8371\n",
            "Epoch 5/6\n",
            "9626/9626 [==============================] - 13s 1ms/step - loss: 0.2609 - recall: 0.9079 - precision: 0.9091\n",
            "Epoch 6/6\n",
            "9626/9626 [==============================] - 13s 1ms/step - loss: 0.1795 - recall: 0.9452 - precision: 0.9285\n",
            "Precision :\n",
            "0.9611510791366906\n",
            "Recall :\n",
            "0.8329177057356608\n",
            "F1 Score :\n",
            "0.8924515698062793\n",
            "MSE :\n",
            "\n",
            "0.10037406483790523\n",
            "confusion_matrix : \n",
            "[[775  27]\n",
            " [134 668]]\n",
            "\n",
            "area under roc curve :  0.9781018152872184\n"
          ],
          "name": "stdout"
        },
        {
          "output_type": "display_data",
          "data": {
            "image/png": "[encoded data removed]",
            "text/plain": [
              "<Figure size 432x288 with 1 Axes>"
            ]
          },
          "metadata": {
            "tags": []
          }
        },
        {
          "output_type": "stream",
          "text": [
            "Running split number  3\n",
            "Epoch 1/6\n",
            "9626/9626 [==============================] - 18s 2ms/step - loss: 0.6928 - recall: 0.5043 - precision: 0.4851\n",
            "Epoch 2/6\n",
            "9626/9626 [==============================] - 13s 1ms/step - loss: 0.6876 - recall: 0.5135 - precision: 0.5276\n",
            "Epoch 3/6\n",
            "9626/9626 [==============================] - 13s 1ms/step - loss: 0.5420 - recall: 0.7176 - precision: 0.7662\n",
            "Epoch 4/6\n",
            "9626/9626 [==============================] - 13s 1ms/step - loss: 0.5323 - recall: 0.6962 - precision: 0.7488\n",
            "Epoch 5/6\n",
            "9626/9626 [==============================] - 13s 1ms/step - loss: 0.4387 - recall: 0.7800 - precision: 0.8655\n",
            "Epoch 6/6\n",
            "9626/9626 [==============================] - 13s 1ms/step - loss: 0.2677 - recall: 0.8965 - precision: 0.9338\n",
            "Precision :\n",
            "0.9336437718277066\n",
            "Recall :\n",
            "1.0\n",
            "F1 Score :\n",
            "0.9656833232992174\n",
            "MSE :\n",
            "\n",
            "0.035536159600997506\n",
            "confusion_matrix : \n",
            "[[745  57]\n",
            " [  0 802]]\n",
            "\n",
            "area under roc curve :  0.9829400936561339\n"
          ],
          "name": "stdout"
        },
        {
          "output_type": "display_data",
          "data": {
            "image/png": "[encoded data removed]",
            "text/plain": [
              "<Figure size 432x288 with 1 Axes>"
            ]
          },
          "metadata": {
            "tags": []
          }
        },
        {
          "output_type": "stream",
          "text": [
            "Running split number  4\n",
            "Epoch 1/6\n",
            "9626/9626 [==============================] - 18s 2ms/step - loss: 0.6196 - recall: 0.6351 - precision: 0.7133\n",
            "Epoch 2/6\n",
            "9626/9626 [==============================] - 13s 1ms/step - loss: 0.3680 - recall: 0.8940 - precision: 0.8396\n",
            "Epoch 3/6\n",
            "9626/9626 [==============================] - 13s 1ms/step - loss: 0.2353 - recall: 0.9401 - precision: 0.9085\n",
            "Epoch 4/6\n",
            "9626/9626 [==============================] - 13s 1ms/step - loss: 0.2199 - recall: 0.9299 - precision: 0.9306\n",
            "Epoch 5/6\n",
            "9626/9626 [==============================] - 13s 1ms/step - loss: 0.1325 - recall: 0.9737 - precision: 0.9538\n",
            "Epoch 6/6\n",
            "9626/9626 [==============================] - 13s 1ms/step - loss: 0.1453 - recall: 0.9666 - precision: 0.9513\n",
            "Precision :\n",
            "0.9150779896013865\n",
            "Recall :\n",
            "0.6583541147132169\n",
            "F1 Score :\n",
            "0.7657722987672226\n",
            "MSE :\n",
            "\n",
            "0.2013715710723192\n",
            "confusion_matrix : \n",
            "[[753  49]\n",
            " [274 528]]\n",
            "\n",
            "area under roc curve :  0.8842233568199203\n"
          ],
          "name": "stdout"
        },
        {
          "output_type": "display_data",
          "data": {
            "image/png": "[encoded data removed]",
            "text/plain": [
              "<Figure size 432x288 with 1 Axes>"
            ]
          },
          "metadata": {
            "tags": []
          }
        },
        {
          "output_type": "stream",
          "text": [
            "Running split number  5\n",
            "Epoch 1/6\n",
            "9626/9626 [==============================] - 19s 2ms/step - loss: 0.5988 - recall: 0.7189 - precision: 0.6951\n",
            "Epoch 2/6\n",
            "9626/9626 [==============================] - 13s 1ms/step - loss: 0.3927 - recall: 0.8713 - precision: 0.8321\n",
            "Epoch 3/6\n",
            "9626/9626 [==============================] - 13s 1ms/step - loss: 0.2437 - recall: 0.9467 - precision: 0.9060\n",
            "Epoch 4/6\n",
            "9626/9626 [==============================] - 13s 1ms/step - loss: 0.2883 - recall: 0.9311 - precision: 0.8944\n",
            "Epoch 5/6\n",
            "9626/9626 [==============================] - 13s 1ms/step - loss: 0.2787 - recall: 0.9288 - precision: 0.8832\n",
            "Epoch 6/6\n",
            "9626/9626 [==============================] - 13s 1ms/step - loss: 0.1912 - recall: 0.9753 - precision: 0.9187\n",
            "Precision :\n",
            "0.9584086799276673\n",
            "Recall :\n",
            "0.6608478802992519\n",
            "F1 Score :\n",
            "0.782287822878229\n",
            "MSE :\n",
            "\n",
            "0.18391521197007482\n",
            "confusion_matrix : \n",
            "[[779  23]\n",
            " [272 530]]\n",
            "\n",
            "area under roc curve :  0.8563286297970784\n"
          ],
          "name": "stdout"
        },
        {
          "output_type": "display_data",
          "data": {
            "image/png": "[encoded data removed]",
            "text/plain": [
              "<Figure size 432x288 with 1 Axes>"
            ]
          },
          "metadata": {
            "tags": []
          }
        },
        {
          "output_type": "stream",
          "text": [
            "Running split number  6\n",
            "Epoch 1/6\n",
            "9626/9626 [==============================] - 19s 2ms/step - loss: 0.5683 - recall: 0.7070 - precision: 0.6822\n",
            "Epoch 2/6\n",
            "9626/9626 [==============================] - 13s 1ms/step - loss: 0.4098 - recall: 0.8711 - precision: 0.8318\n",
            "Epoch 3/6\n",
            "9626/9626 [==============================] - 13s 1ms/step - loss: 0.2191 - recall: 0.9676 - precision: 0.9110\n",
            "Epoch 4/6\n",
            "9626/9626 [==============================] - 13s 1ms/step - loss: 0.1609 - recall: 0.9758 - precision: 0.9341\n",
            "Epoch 5/6\n",
            "9626/9626 [==============================] - 13s 1ms/step - loss: 0.1441 - recall: 0.9739 - precision: 0.9486\n",
            "Epoch 6/6\n",
            "9626/9626 [==============================] - 13s 1ms/step - loss: 0.1151 - recall: 0.9847 - precision: 0.9532\n",
            "Precision :\n",
            "0.9651474530831099\n",
            "Recall :\n",
            "0.4488778054862843\n",
            "F1 Score :\n",
            "0.6127659574468085\n",
            "MSE :\n",
            "\n",
            "0.28366583541147133\n",
            "confusion_matrix : \n",
            "[[789  13]\n",
            " [442 360]]\n",
            "\n",
            "area under roc curve :  0.8763331695698409\n"
          ],
          "name": "stdout"
        },
        {
          "output_type": "display_data",
          "data": {
            "image/png": "[encoded data removed]",
            "text/plain": [
              "<Figure size 432x288 with 1 Axes>"
            ]
          },
          "metadata": {
            "tags": []
          }
        },
        {
          "output_type": "stream",
          "text": [
            "Running split number  7\n",
            "Epoch 1/6\n",
            "9626/9626 [==============================] - 19s 2ms/step - loss: 0.5645 - recall: 0.7479 - precision: 0.7312\n",
            "Epoch 2/6\n",
            "9626/9626 [==============================] - 13s 1ms/step - loss: 0.3450 - recall: 0.9242 - precision: 0.8473\n",
            "Epoch 3/6\n",
            "9626/9626 [==============================] - 13s 1ms/step - loss: 0.2597 - recall: 0.9405 - precision: 0.9029\n",
            "Epoch 4/6\n",
            "9626/9626 [==============================] - 13s 1ms/step - loss: 0.1537 - recall: 0.9867 - precision: 0.9329\n",
            "Epoch 5/6\n",
            "9626/9626 [==============================] - 13s 1ms/step - loss: 0.1231 - recall: 0.9836 - precision: 0.9557\n",
            "Epoch 6/6\n",
            "9626/9626 [==============================] - 13s 1ms/step - loss: 0.3373 - recall: 0.8880 - precision: 0.8531\n",
            "Precision :\n",
            "0.9491124260355029\n",
            "Recall :\n",
            "1.0\n",
            "F1 Score :\n",
            "0.9738919247115969\n",
            "MSE :\n",
            "\n",
            "0.02680798004987531\n",
            "confusion_matrix : \n",
            "[[759  43]\n",
            " [  0 802]]\n",
            "\n",
            "area under roc curve :  0.9789880038059464\n"
          ],
          "name": "stdout"
        },
        {
          "output_type": "display_data",
          "data": {
            "image/png": "[encoded data removed]",
            "text/plain": [
              "<Figure size 432x288 with 1 Axes>"
            ]
          },
          "metadata": {
            "tags": []
          }
        }
      ]
    },
    {
      "cell_type": "markdown",
      "metadata": {
        "id": "nflps9XzfVfm",
        "colab_type": "text"
      },
      "source": [
        "## Evaluate model\n",
        " "
      ]
    },
    {
      "cell_type": "code",
      "metadata": {
        "id": "Vn3UL85xUvZA",
        "colab_type": "code",
        "outputId": "34c3384e-b5f9-4abf-d60f-382c4e9cbc6e",
        "colab": {
          "base_uri": "https://localhost:8080/",
          "height": 265
        }
      },
      "source": [
        "# Evaluate mean and variance of each metric\n",
        "nb_split = Roc.shape[0]\n",
        "\n",
        "TP = np.zeros(nb_split)\n",
        "TN = np.zeros(nb_split)\n",
        "FP = np.zeros(nb_split)\n",
        "FN = np.zeros(nb_split)\n",
        "Acc = np.zeros(nb_split)\n",
        "Pre = np.zeros(nb_split)\n",
        "Rec = np.zeros(nb_split)\n",
        "f1 = np.zeros(nb_split)\n",
        "\n",
        "for k in range(nb_split):\n",
        "  TP[k] = Scores[k][1][1]\n",
        "  FN[k] = Scores[k][1][0]\n",
        "  FP[k] = Scores[k][0][1]\n",
        "  TN[k] = Scores[k][0][0]\n",
        "\n",
        "  Acc[k] = (TP[k]+TN[k])/(TP[k]+FP[k]+FN[k]+TN[k])\n",
        "  Pre[k] = TP[k]/(TP[k]+FP[k])\n",
        "  Rec[k] = TP[k]/(TP[k]+FN[k])\n",
        "  f1[k] = 2 * (Rec[k] * Pre[k]) / (Rec[k] + Pre[k])\n",
        "\n",
        "mean_conf = np.array([[np.mean(TP), np.mean(FN)],[np.mean(FP), np.mean(TN)]])\n",
        "var_conf = np.array([[np.sqrt(np.var(TP)), np.sqrt(np.var(FN))],[np.sqrt(np.var(FP)), np.sqrt(np.var(TN))]])\n",
        "print('confusion')\n",
        "print(mean_conf, var_conf)\n",
        "\n",
        "mean_roc = np.mean(Roc)\n",
        "var_roc = np.sqrt(np.var(Roc))\n",
        "print('AUC Score')\n",
        "print(mean_roc, var_roc)\n",
        "\n",
        "mean_Acc = np.mean(Acc)\n",
        "var_Acc = np.sqrt(np.var(Acc))\n",
        "print('Accuracy')\n",
        "print(mean_Acc, var_Acc)\n",
        "\n",
        "mean_Pre = np.mean(Pre)\n",
        "var_Pre = np.sqrt(np.var(Pre))\n",
        "print('Precision')\n",
        "print(mean_Pre, var_Pre)\n",
        "\n",
        "mean_Rec = np.mean(Rec)\n",
        "var_Rec = np.sqrt(np.var(Rec))\n",
        "print('Recall')\n",
        "print(mean_Rec, var_Rec)\n",
        "\n",
        "mean_f1 = np.mean(f1)\n",
        "var_f1 = np.sqrt(np.var(f1))\n",
        "print('f1')\n",
        "print(mean_f1, var_f1)"
      ],
      "execution_count": 27,
      "outputs": [
        {
          "output_type": "stream",
          "text": [
            "confusion\n",
            "[[641.85714286 160.28571429]\n",
            " [ 41.42857143 760.71428571]] [[161.62604862 161.48393488]\n",
            " [ 20.68717438  20.43606256]]\n",
            "AUC Score\n",
            "0.9333899869541972 0.053493054747198024\n",
            "Accuracy\n",
            "0.8742516152245253 0.09147076384090762\n",
            "Precision\n",
            "0.9420008063982859 0.020526823248435383\n",
            "Recall\n",
            "0.8001425008906305 0.20135153975124775\n",
            "f1\n",
            "0.849504943874733 0.12492362985775042\n"
          ],
          "name": "stdout"
        }
      ]
    },
    {
      "cell_type": "code",
      "metadata": {
        "id": "n9Yqet44NUIn",
        "colab_type": "code",
        "colab": {}
      },
      "source": [
        ""
      ],
      "execution_count": 0,
      "outputs": []
    }
  ]
}