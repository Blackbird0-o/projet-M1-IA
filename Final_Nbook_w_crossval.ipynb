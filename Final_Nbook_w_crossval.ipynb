{
  "nbformat": 4,
  "nbformat_minor": 0,
  "metadata": {
    "colab": {
      "name": "Final_Nbook_w_crossval.ipynb",
      "provenance": [],
      "collapsed_sections": [
        "O4DCDqXN-gsq",
        "sBXv4ImW_60C"
      ]
    },
    "kernelspec": {
      "name": "python3",
      "display_name": "Python 3"
    },
    "accelerator": "GPU"
  },
  "cells": [
    {
      "cell_type": "markdown",
      "metadata": {
        "colab_type": "text",
        "id": "LbUFxk5L-jE0"
      },
      "source": [
        "# DRIVE MOUNT"
      ]
    },
    {
      "cell_type": "code",
      "execution_count": 1,
      "metadata": {
        "colab": {
          "base_uri": "https://localhost:8080/",
          "height": 125
        },
        "colab_type": "code",
        "id": "jNPthfD396hf",
        "outputId": "0e683560-8266-43bd-ae00-4677393a0fd0"
      },
      "outputs": [
        {
          "name": "stdout",
          "output_type": "stream",
          "text": [
            "Go to this URL in a browser: https://accounts.google.com/o/oauth2/auth?client_id=947318989803-6bn6qk8qdgf4n4g3pfee6491hc0brc4i.apps.googleusercontent.com&redirect_uri=urn%3aietf%3awg%3aoauth%3a2.0%3aoob&response_type=code&scope=email%20https%3a%2f%2fwww.googleapis.com%2fauth%2fdocs.test%20https%3a%2f%2fwww.googleapis.com%2fauth%2fdrive%20https%3a%2f%2fwww.googleapis.com%2fauth%2fdrive.photos.readonly%20https%3a%2f%2fwww.googleapis.com%2fauth%2fpeopleapi.readonly\n",
            "\n",
            "Enter your authorization code:\n",
            "··········\n",
            "Mounted at /content/drive\n"
          ]
        }
      ],
      "source": [
        "from google.colab import drive\n",
        "drive.mount('/content/drive')"
      ]
    },
    {
      "cell_type": "markdown",
      "metadata": {
        "colab_type": "text",
        "id": "O4DCDqXN-gsq"
      },
      "source": [
        "# IMPORTS"
      ]
    },
    {
      "cell_type": "code",
      "execution_count": 2,
      "metadata": {
        "colab": {
          "base_uri": "https://localhost:8080/",
          "height": 136
        },
        "colab_type": "code",
        "id": "Z_d6cJdY-OPS",
        "outputId": "2a3a1b56-e859-4faa-e13d-028ff2d39edc"
      },
      "outputs": [
        {
          "name": "stderr",
          "output_type": "stream",
          "text": [
            "Using TensorFlow backend.\n"
          ]
        },
        {
          "data": {
            "text/html": [
              "<p style=\"color: red;\">\n",
              "The default version of TensorFlow in Colab will soon switch to TensorFlow 2.x.<br>\n",
              "We recommend you <a href=\"https://www.tensorflow.org/guide/migrate\" target=\"_blank\">upgrade</a> now \n",
              "or ensure your notebook will continue to use TensorFlow 1.x via the <code>%tensorflow_version 1.x</code> magic:\n",
              "<a href=\"https://colab.research.google.com/notebooks/tensorflow_version.ipynb\" target=\"_blank\">more info</a>.</p>\n"
            ],
            "text/plain": [
              "<IPython.core.display.HTML object>"
            ]
          },
          "metadata": {
            "tags": []
          },
          "output_type": "display_data"
        },
        {
          "name": "stderr",
          "output_type": "stream",
          "text": [
            "/usr/local/lib/python3.6/dist-packages/sklearn/externals/six.py:31: DeprecationWarning: The module is deprecated in version 0.21 and will be removed in version 0.23 since we've dropped support for Python 2.7. Please rely on the official version of six (https://pypi.org/project/six/).\n",
            "  \"(https://pypi.org/project/six/).\", DeprecationWarning)\n"
          ]
        }
      ],
      "source": [
        "import numpy as np\n",
        "import matplotlib.pyplot as plt\n",
        "from sklearn.metrics import confusion_matrix, f1_score, precision_score, recall_score, mean_squared_error\n",
        "from sklearn.model_selection import train_test_split, KFold\n",
        "\n",
        "from keras import backend as K\n",
        "\n",
        "from keras.models import Sequential, Model\n",
        "from keras.layers import Activation, Dense, Dropout, Flatten, BatchNormalization, CuDNNLSTM, LSTM, Conv1D,UpSampling1D, MaxPool1D,MaxPooling1D, Permute, Reshape\n",
        "from keras.optimizers import RMSprop, adam\n",
        "from keras.utils import to_categorical\n",
        "\n",
        "import pywt\n",
        "import pandas as pd\n",
        "from matplotlib import cm\n",
        "\n",
        "from mpl_toolkits.mplot3d import Axes3D\n",
        "\n",
        "from imblearn.over_sampling import SMOTE\n",
        "from imblearn.base import BaseSampler\n",
        "from collections import Counter # counts the number of elements per class ({0: 5050, 1: 37})\n",
        "\n",
        "from sklearn.model_selection import train_test_split\n",
        "from sklearn.preprocessing import StandardScaler, MinMaxScaler\n",
        "from sklearn.decomposition import PCA\n"
      ]
    },
    {
      "cell_type": "markdown",
      "metadata": {
        "colab_type": "text",
        "id": "pxq8Xdhw-bNr"
      },
      "source": [
        "# DATA PROCESSING"
      ]
    },
    {
      "cell_type": "code",
      "execution_count": 0,
      "metadata": {
        "colab": {},
        "colab_type": "code",
        "id": "JPQseyW3-P4g"
      },
      "outputs": [],
      "source": [
        "def RPN(x):\n",
        "    '''\n",
        "    Calcule la RPN d'un signal (Relative Power Noise)\n",
        "    input :\n",
        "        x = array numpy, le signal dont on souhaite calculer la RPN\n",
        "        \n",
        "    output :\n",
        "        x_RPN = array numpy, la RPN du signal\n",
        "        '''\n",
        "    mean = np.mean(x,axis=1).reshape(x.shape[0],1)\n",
        "    return (x-mean)/mean\n",
        "  \n",
        "def shuffle(x,y):\n",
        "    # shuffle\n",
        "    index = np.arange(y.shape[0])\n",
        "    np.random.shuffle(index)\n",
        "    x = x[index]\n",
        "    y = y[index]\n",
        "    \n",
        "    return x,y\n",
        "    \n",
        "def bootstrap(x_train,y_train,inv=True) :\n",
        "    if inv :\n",
        "      x_train,y_train = inv_data(x_train,y_train)\n",
        "      \n",
        "    x_train1 = x_train[np.where(y_train == 1)[0]] #Separation du train_set selon le label\n",
        "    x_train0 = x_train[np.where(y_train == 0)[0]]\n",
        "    index_train = np.random.randint(0,x_train1.shape[0] , size=x_train0.shape[0]) #genere une liste d'index \n",
        "                                                                                  #aléatoire pour equilibrer les données\n",
        "    x_train_1_boot = x_train1[index_train]\n",
        "    y_train_boot = np.concatenate((np.ones(x_train0.shape[0]),np.zeros(x_train0.shape[0]))) #on génère une liste de labels avec autant de 1 que de 0\n",
        "    x_train_boot = np.concatenate((x_train_1_boot,x_train0)) #on rassemble les données une fois équilibrées\n",
        "    \n",
        "    x_train_boot,y_train_boot  = shuffle(x_train_boot,y_train_boot)\n",
        "    \n",
        "    return x_train_boot,y_train_boot\n",
        "\n",
        "def dataload(path='data/',merge=True) :\n",
        "    # Loading datas\n",
        "    data_train = pd.read_csv(path+'exoTrain.csv')\n",
        "    data_test = pd.read_csv(path+'exoTest.csv')\n",
        "    \n",
        "    # transformation des label en array de 0 et 1\n",
        "    y_train = np.array(data_train[\"LABEL\"])-1\n",
        "    y_test = np.array(data_test['LABEL'])-1\n",
        "    \n",
        "    # on charge les features\n",
        "    x_train = np.array(data_train.drop('LABEL',axis=1))\n",
        "    x_test = np.array(data_test.drop('LABEL',axis=1))\n",
        "    \n",
        "    if merge :\n",
        "      data = np.concatenate((x_train,x_test))\n",
        "      y = np.concatenate((y_train,y_test))\n",
        "      data0 = data[np.where(y==0)[0]]\n",
        "      y0 = y[np.where(y==0)[0]]\n",
        "      data1 = data[np.where(y==1)[0]]\n",
        "      y1 = y[np.where(y==1)[0]]\n",
        "      \n",
        "      x_train0,x_test0,y_train0,y_test0 = train_test_split(data0,y0, test_size = 0.1)\n",
        "      x_train1,x_test1,y_train1,y_test1 = train_test_split(data1,y1, test_size = 0.1)\n",
        "      \n",
        "      x_train = np.concatenate((x_train0,x_train1))\n",
        "      y_train = np.concatenate((y_train0,y_train1))\n",
        "      x_test = np.concatenate((x_test0,x_test1))\n",
        "      y_test = np.concatenate((y_test0,y_test1))\n",
        "      \n",
        "      x_train,y_train = shuffle(x_train,y_train)\n",
        "      x_test,y_test = shuffle(x_test,y_test)\n",
        "    \n",
        "    return x_train,y_train,x_test,y_test\n",
        "\n",
        "def pcaPlot(X, y, descr= 'temporel',plot_samples = 500):\n",
        "  '''\n",
        "  Defines and 10 components PCA of the dataset X and plots the first 3\n",
        "  '''\n",
        "  pca = PCA(n_components=10)\n",
        "  x_PCA = pca.fit_transform(X)\n",
        "\n",
        "  # let's visualize the data in 3d\n",
        "  fig = plt.figure()\n",
        "  ax = fig.add_subplot(111, projection='3d')\n",
        "  ax.set_xlabel('Principal Component 1', fontsize = 15)\n",
        "  ax.set_ylabel('Principal Component 2', fontsize = 15)\n",
        "  ax.set_zlabel('Principal Component 3', fontsize = 15)\n",
        "  ax.set_title('ACP du signal ' + descr, fontsize = 20)\n",
        "  targets = [0,1]\n",
        "  colors = ['b', 'r']\n",
        "  x_PCA_plot = x_PCA[0:plot_samples]\n",
        "\n",
        "  for target, color in zip(targets,colors):\n",
        "      indexes = np.where(y[0:plot_samples] == target)\n",
        "      ax.scatter(x_PCA_plot[indexes,0]\n",
        "                , x_PCA_plot[indexes,1],\n",
        "                x_PCA_plot[indexes,2]\n",
        "                , c = color\n",
        "                , s = 50)\n",
        "  ax.legend(['pas d\\'exoplanetes', 'exoplanetes'])\n",
        "  ax.grid()\n",
        "  plt.show()\n",
        "  return None\n",
        "\n",
        "#Make an identity sampler\n",
        "class FakeSampler(BaseSampler):\n",
        "\n",
        "    _sampling_type = 'bypass'\n",
        "\n",
        "    def _fit_resample(self, X, y):\n",
        "        return X, y\n",
        "\n",
        "def plot_resampling(X, y, sampling, ax):\n",
        "    X_res, y_res = sampling.fit_resample(X, y)\n",
        "    ax.scatter(X_res[:, 0], X_res[:, 1], c=y_res, alpha=0.8, edgecolor='k')\n",
        "    ax.spines['top'].set_visible(False)\n",
        "    ax.spines['right'].set_visible(False)\n",
        "    ax.get_xaxis().tick_bottom()\n",
        "    ax.get_yaxis().tick_left()\n",
        "    ax.spines['left'].set_position(('outward', 10))\n",
        "    ax.spines['bottom'].set_position(('outward', 10))\n",
        "    return Counter(y_res)\n",
        "\n",
        "def SMOTE_plot(x_train, y_train):\n",
        "  sampler = FakeSampler()\n",
        "\n",
        "  fig, (ax1, ax2) = plt.subplots(1, 2, figsize=(15, 15))\n",
        "  plot_resampling(x_train, y_train, sampler, ax1)\n",
        "  ax1.set_title('Original data - y={}'.format(Counter(y_train)))\n",
        "\n",
        "  plot_resampling(x_train, y_train, SMOTE(random_state = 0), ax2)\n",
        "  ax2.set_title('Resampling using {}'.format(SMOTE(random_state=0).__class__.__name__))\n",
        "  fig.tight_layout()\n",
        "  plt.show()\n",
        "  return None\n",
        "\n",
        "def transform_dataset(X, mode='wavelet', wname='db5',nsamples=10):\n",
        "  if mode == 'wavelet':\n",
        "    return pywt.dwt(X, wname)[0][:,0:nsamples]\n",
        "\n",
        "  elif mode == 'fft':\n",
        "    return np.abs(np.fft.fft(X))[:,0:nsamples]\n",
        "\n",
        "  elif mode == 'all_in':\n",
        "    allz = np.abs(np.fft.fft(X))[:,0:nsamples]\n",
        "    wnames = ['db5','sym5','coif5','bior2.4']\n",
        "    for wn in wnames:\n",
        "      np.append(allz, pywt.dwt(X, wn)[0][:,0:nsamples], axis=1)\n",
        "    return allz\n",
        "\n",
        "def scale_datasets(X_train, X_test, param='standardScaling', reshape=True):\n",
        "  SC = StandardScaler()\n",
        "  train_shape = X_train.shape\n",
        "  test_shape = X_test.shape\n",
        "    \n",
        "  if param == 'standardScaling':\n",
        "    SC.fit(X_train)\n",
        "    if reshape:\n",
        "      return SC.transform(X_train).reshape(train_shape[0],train_shape[1],1), SC.transform(X_test).reshape(test_shape[0],test_shape[1],1)\n",
        "    else :\n",
        "      return SC.transform(X_train), SC.transform(X_test)\n",
        "\n",
        "  elif param == 'RPN':\n",
        "    \n",
        "    mean_train = np.mean(X_train,axis=1).reshape(X_train.shape[0],1)\n",
        "    mean_test = np.mean(X_test,axis=1).reshape(X_test.shape[0],1)\n",
        "    \n",
        "    norm_train = np.max(np.abs(X_train),axis=1).reshape(-1,1)#np.linalg.norm(X_train,axis=1).reshape(-1,1)\n",
        "    norm_test = np.max(np.abs(X_test),axis=1).reshape(-1,1)#np.linalg.norm(X_test,axis=1).reshape(-1,1)\n",
        "    \n",
        "    if reshape:\n",
        "      return ((X_train-mean_train)/norm_train) .reshape(train_shape[0],train_shape[1],1) , ((X_test-mean_test)/norm_test) .reshape(test_shape[0],test_shape[1],1)\n",
        "    else :\n",
        "      return ((X_train-mean_train)/norm_train)  , ((X_test-mean_test)/norm_test) \n",
        "    \n",
        "    \n",
        "  elif param == 'transpose':\n",
        "    X_train = np.transpose(X_train)\n",
        "    if train_shape != test_shape :\n",
        "      X_test = np.tile(X_test,(10,1))[0:train_shape[0]]\n",
        "    X_test = np.transpose(X_test)\n",
        "    SC.fit(X_train)\n",
        "    if reshape:\n",
        "      return np.transpose(SC.transform(X_train)).reshape(train_shape[0],train_shape[1],1), np.transpose(SC.transform(X_test))[0:test_shape[0]].reshape(test_shape[0],test_shape[1],1)\n",
        "    else :\n",
        "      return np.transpose(SC.transform(X_train)), np.transpose(SC.transform(X_test))[0:test_shape[0]]\n",
        "    \n",
        "  elif param == 'flatten':\n",
        "    X_train = X_train.flatten().reshape((-1,1))\n",
        "    X_test = X_test.flatten().reshape((-1,1))\n",
        "    SC.fit(X_train)\n",
        "    if reshape:\n",
        "      return SC.transform(X_train).reshape(train_shape[0],train_shape[1],1), SC.transform(X_test).reshape(test_shape[0],test_shape[1],1)\n",
        "    else :\n",
        "      return SC.transform(X_train).reshape(train_shape[0],train_shape[1]), SC.transform(X_test).reshape(test_shape[0],test_shape[1])\n",
        "  \n",
        "  elif param == 'norm':\n",
        "    norm_train = np.linalg.norm(X_train,axis=1).reshape(-1,1)\n",
        "    norm_test = np.linalg.norm(X_test,axis=1).reshape(-1,1)\n",
        "    if reshape:\n",
        "      return (X_train/norm_train).reshape(train_shape[0],train_shape[1],1), (X_test/norm_test).reshape(test_shape[0],test_shape[1],1)\n",
        "    else :\n",
        "      return X_train/norm_train, X_test/norm_test\n",
        "    \n",
        "  elif param == 'norm_flatten':\n",
        "    norm_train = np.linalg.norm(X_train)\n",
        "    norm_test = np.linalg.norm(X_test,axis=1).reshape(-1,1)\n",
        "    if reshape:\n",
        "      return (X_train/norm_train).reshape(train_shape[0],train_shape[1],1), (X_test/norm_train).reshape(test_shape[0],test_shape[1],1)\n",
        "    else :\n",
        "      return X_train/norm_train, X_test/norm_train\n",
        "\n",
        "def inv_data(X, y):\n",
        "  X_flipped = np.flip(X[np.where(y == 1)[0]], 1)\n",
        "  y_flipped = np.ones((X_flipped.shape[0]))\n",
        "  return np.concatenate((X, X_flipped)), np.concatenate((y, y_flipped))"
      ]
    },
    {
      "cell_type": "markdown",
      "metadata": {
        "colab_type": "text",
        "id": "sBXv4ImW_60C"
      },
      "source": [
        "# METRICS\n"
      ]
    },
    {
      "cell_type": "code",
      "execution_count": 0,
      "metadata": {
        "colab": {},
        "colab_type": "code",
        "id": "YALCfl9M_-KW"
      },
      "outputs": [],
      "source": [
        "def getScores_cross(pred, result, display=False):\n",
        "  confusion = confusion_matrix(result, pred)\n",
        "  \n",
        "  if display:\n",
        "    print('Precision :')\n",
        "    print(precision_score(result, pred))\n",
        "    print('Recall :')\n",
        "    print(recall_score(result, pred))\n",
        "    print('F1 Score :')\n",
        "    print(f1_score(result, pred))\n",
        "    print('MSE :')\n",
        "    print('')\n",
        "    print(mean_squared_error(result, pred))\n",
        "    print('confusion_matrix : ')\n",
        "    print(confusion)\n",
        "    print('')\n",
        "  \n",
        "  return confusion \n",
        "\n",
        "def recall(y_true, y_pred):\n",
        "  \"\"\"Recall metric.\n",
        "  Only computes a batch-wise average of recall.\n",
        "  Computes the recall, a metric for multi-label classification of\n",
        "  how many relevant items are selected.\n",
        "  \"\"\"\n",
        "  true_positives = K.sum(K.round(K.clip(y_true * y_pred, 0, 1)))\n",
        "  possible_positives = K.sum(K.round(K.clip(y_true, 0, 1)))\n",
        "  return true_positives / (possible_positives + K.epsilon())\n",
        "\n",
        "def precision(y_true, y_pred):\n",
        "  \"\"\"Precision metric.\n",
        "  Only computes a batch-wise average of precision.\n",
        "  Computes the precision, a metric for multi-label classification of\n",
        "  how many selected items are relevant.\n",
        "  \"\"\"\n",
        "  true_positives = K.sum(K.round(K.clip(y_true * y_pred, 0, 1)))\n",
        "  predicted_positives = K.sum(K.round(K.clip(y_pred, 0, 1)))\n",
        "  return true_positives / (predicted_positives + K.epsilon())\n",
        "\n",
        "def f1(y_true, y_pred):\n",
        "  preci = precision(y_true, y_pred)\n",
        "  rec = recall(y_true, y_pred)\n",
        "  return 2*((preci*rec)/(preci+rec+K.epsilon()))\n"
      ]
    },
    {
      "cell_type": "markdown",
      "metadata": {
        "colab_type": "text",
        "id": "Ml5ft1czAcVD"
      },
      "source": [
        "# CROSS VALIDATION\n"
      ]
    },
    {
      "cell_type": "markdown",
      "metadata": {
        "colab_type": "text",
        "id": "D83iTNYAAobP"
      },
      "source": [
        "## Data load"
      ]
    },
    {
      "cell_type": "code",
      "execution_count": 0,
      "metadata": {
        "colab": {},
        "colab_type": "code",
        "id": "C0D-gXb0F960"
      },
      "outputs": [],
      "source": [
        "def data_load_for_cross(path='drive/My Drive/M1/IA/'):\n",
        "  '''\n",
        "  Loads data into one single dataset. \n",
        "  Takes only the path as parameter and returns two numpy arrays X and y\n",
        "  '''\n",
        "\n",
        "  # Loading data\n",
        "  data_train = pd.read_csv(path+'exoTrain.csv')\n",
        "  data_test = pd.read_csv(path+'exoTest.csv')\n",
        "  \n",
        "  # Transform labels into arrays of zeros and ones\n",
        "  y_train = np.array(data_train[\"LABEL\"])-1\n",
        "  y_test = np.array(data_test['LABEL'])-1\n",
        "  \n",
        "  # Load features\n",
        "  x_train = np.array(data_train.drop('LABEL',axis=1))\n",
        "  x_test = np.array(data_test.drop('LABEL',axis=1))\n",
        "  \n",
        "  # Merge datasets\n",
        "  X = np.concatenate((x_train,x_test))\n",
        "  y = np.concatenate((y_train,y_test))\n",
        "\n",
        "  return X, y"
      ]
    },
    {
      "cell_type": "code",
      "execution_count": 0,
      "metadata": {
        "colab": {},
        "colab_type": "code",
        "id": "_hI6h7wmAeRg"
      },
      "outputs": [],
      "source": [
        "x, y = data_load_for_cross()"
      ]
    },
    {
      "cell_type": "markdown",
      "metadata": {
        "colab_type": "text",
        "id": "c23oHduTRNhA"
      },
      "source": [
        "## Functions\n"
      ]
    },
    {
      "cell_type": "code",
      "execution_count": 0,
      "metadata": {
        "colab": {},
        "colab_type": "code",
        "id": "hsYRsmC4Z33p"
      },
      "outputs": [],
      "source": [
        "def maxinet_cross(x_train,y_train,x_test,y_test, tst=False):\n",
        "  model = Sequential()\n",
        "\n",
        "  model.add(Conv1D(16, 200, activation='relu', padding='same', input_shape=x_train.shape[1:]))\n",
        "  model.add(MaxPooling1D(4, padding='same'))\n",
        "  model.add(Conv1D(8, 100, activation='relu', padding='same'))\n",
        "  model.add(MaxPooling1D(4, padding='same'))\n",
        "  model.add(Conv1D(4, 10, activation='relu', padding='same'))\n",
        "  model.add(Dropout(0.2))\n",
        "  model.add(CuDNNLSTM(200, return_sequences=True))\n",
        "  model.add(Dropout(0.2))\n",
        "  model.add(CuDNNLSTM(70, return_sequences=True)) \n",
        "  model.add(Dropout(0.2))\n",
        "  model.add(CuDNNLSTM(10)) \n",
        "  model.add(Dropout(0.2))\n",
        "  model.add(Dense(1, activation='sigmoid'))\n",
        "\n",
        "  model.compile(optimizer='adam', loss='binary_crossentropy',metrics=[precision]) #[f1, precision, \"accuracy\"]\n",
        "  if tst:\n",
        "    model.fit(x_train, y_train,\n",
        "                    epochs=1,\n",
        "                    shuffle = True,\n",
        "                    batch_size=128)\n",
        "  else:\n",
        "    model.fit(x_train, y_train,\n",
        "                    epochs=6,\n",
        "                    shuffle = True,\n",
        "                    batch_size=32,\n",
        "                    validation_data=(x_test, y_test))\n",
        "  \n",
        "\n",
        "  return np.rint(model.predict(x_test))"
      ]
    },
    {
      "cell_type": "code",
      "execution_count": 0,
      "metadata": {
        "colab": {},
        "colab_type": "code",
        "id": "CbDeUS9lRo66"
      },
      "outputs": [],
      "source": [
        "def cross_validation(X, y, splits=5, testing=False):\n",
        "  # Separate exoplanet stars from non-exoplanet stars\n",
        "  x_stars = X[np.where(y==0)]\n",
        "  y_stars = y[np.where(y==0)]\n",
        "  x_exo = X[np.where(y==1)]\n",
        "  y_exo = y[np.where(y==1)]\n",
        "\n",
        "  # Create splits\n",
        "  kf = KFold(n_splits=splits, random_state=None, shuffle=False)\n",
        "  split_stars = kf.split(x_stars)\n",
        "  split_exo = kf.split(x_exo)\n",
        "  scores = np.zeros((splits, 2, 2))\n",
        "\n",
        "  for k in range(splits):\n",
        "    # A bit of info\n",
        "    print(\"Running split number \", k + 1)\n",
        "\n",
        "    # Define splits\n",
        "    spS = next(split_stars)\n",
        "    spE = next(split_exo)\n",
        "    idx_tra_S = spS[0]\n",
        "    idx_tst_S = spS[1]\n",
        "    idx_tra_E = spE[0]\n",
        "    idx_tst_E = spE[1]\n",
        "\n",
        "    # Create train and test sets\n",
        "    x_tra = np.concatenate((x_stars[idx_tra_S], x_exo[idx_tra_E]))\n",
        "    y_tra = np.concatenate((y_stars[idx_tra_S], y_exo[idx_tra_E]))\n",
        "    x_tst = np.concatenate((x_stars[idx_tst_S], x_exo[idx_tst_E]))\n",
        "    y_tst = np.concatenate((y_stars[idx_tst_S], y_exo[idx_tst_E]))\n",
        "\n",
        "    # Shuffle datasets\n",
        "    x_tra, y_tra = shuffle(x_tra, y_tra)\n",
        "    x_tst, y_tst = shuffle(x_tst, y_tst)\n",
        "\n",
        "    # Bootstrap datasets\n",
        "    x_tra, y_tra = bootstrap(x_tra, y_tra)\n",
        "    x_tst, y_tst = bootstrap(x_tst, y_tst, inv=False)\n",
        "\n",
        "    # Scale datasets\n",
        "    x_tra, x_tst = scale_datasets(x_tra, x_tst, param='RPN')\n",
        "\n",
        "    # Run and evaluate NN\n",
        "    pred = maxinet_cross(x_tra, y_tra, x_tst, y_tst, tst=testing)\n",
        "    scores[k] = getScores_cross(y_tst, pred)\n",
        "\n",
        "  return scores"
      ]
    },
    {
      "cell_type": "markdown",
      "metadata": {
        "colab_type": "text",
        "id": "g4BfIpijFzRn"
      },
      "source": [
        "## Testing"
      ]
    },
    {
      "cell_type": "code",
      "execution_count": 35,
      "metadata": {
        "colab": {
          "base_uri": "https://localhost:8080/",
          "height": 1000
        },
        "colab_type": "code",
        "id": "Ki7Gd63Hbz-o",
        "outputId": "4821651d-6061-4b20-ad74-c6cd8770c462"
      },
      "outputs": [
        {
          "name": "stdout",
          "output_type": "stream",
          "text": [
            "Running split number  1\n",
            "Train on 8984 samples, validate on 2246 samples\n",
            "Epoch 1/6\n",
            "8984/8984 [==============================] - 22s 3ms/step - loss: 0.4707 - precision: 0.7779 - val_loss: 0.4976 - val_precision: 0.6855\n",
            "Epoch 2/6\n",
            "8984/8984 [==============================] - 14s 2ms/step - loss: 0.3162 - precision: 0.8546 - val_loss: 0.4487 - val_precision: 0.9463\n",
            "Epoch 3/6\n",
            "8984/8984 [==============================] - 14s 2ms/step - loss: 0.1899 - precision: 0.9163 - val_loss: 0.1558 - val_precision: 0.9426\n",
            "Epoch 4/6\n",
            "8984/8984 [==============================] - 14s 2ms/step - loss: 0.1129 - precision: 0.9523 - val_loss: 0.8090 - val_precision: 0.9674\n",
            "Epoch 5/6\n",
            "8984/8984 [==============================] - 14s 2ms/step - loss: 0.1289 - precision: 0.9584 - val_loss: 0.1635 - val_precision: 0.9620\n",
            "Epoch 6/6\n",
            "8984/8984 [==============================] - 14s 2ms/step - loss: 0.1210 - precision: 0.9550 - val_loss: 0.0994 - val_precision: 0.9586\n",
            "Running split number  2\n",
            "Train on 8984 samples, validate on 2246 samples\n",
            "Epoch 1/6\n",
            "8984/8984 [==============================] - 23s 3ms/step - loss: 0.4527 - precision: 0.7955 - val_loss: 0.3172 - val_precision: 0.9418\n",
            "Epoch 2/6\n",
            "8984/8984 [==============================] - 14s 2ms/step - loss: 0.2830 - precision: 0.8878 - val_loss: 0.3091 - val_precision: 0.9371\n",
            "Epoch 3/6\n",
            "8984/8984 [==============================] - 14s 2ms/step - loss: 0.2042 - precision: 0.9137 - val_loss: 0.3519 - val_precision: 0.9134\n",
            "Epoch 4/6\n",
            "8984/8984 [==============================] - 14s 2ms/step - loss: 0.1980 - precision: 0.9193 - val_loss: 0.6922 - val_precision: 0.8119\n",
            "Epoch 5/6\n",
            "8984/8984 [==============================] - 14s 2ms/step - loss: 0.1107 - precision: 0.9563 - val_loss: 0.3734 - val_precision: 0.9434\n",
            "Epoch 6/6\n",
            "8984/8984 [==============================] - 14s 2ms/step - loss: 0.1219 - precision: 0.9559 - val_loss: 0.4023 - val_precision: 0.9524\n",
            "Running split number  3\n",
            "Train on 8984 samples, validate on 2246 samples\n",
            "Epoch 1/6\n",
            "8984/8984 [==============================] - 24s 3ms/step - loss: 0.6665 - precision: 0.5949 - val_loss: 0.5800 - val_precision: 0.6390\n",
            "Epoch 2/6\n",
            "8984/8984 [==============================] - 14s 2ms/step - loss: 0.5143 - precision: 0.7654 - val_loss: 0.3285 - val_precision: 0.8404\n",
            "Epoch 3/6\n",
            "8984/8984 [==============================] - 14s 2ms/step - loss: 0.2529 - precision: 0.8983 - val_loss: 0.3017 - val_precision: 0.8677\n",
            "Epoch 4/6\n",
            "8984/8984 [==============================] - 14s 2ms/step - loss: 0.1477 - precision: 0.9407 - val_loss: 0.4334 - val_precision: 0.9586\n",
            "Epoch 5/6\n",
            "8984/8984 [==============================] - 14s 2ms/step - loss: 0.1068 - precision: 0.9613 - val_loss: 0.6045 - val_precision: 0.9496\n",
            "Epoch 6/6\n",
            "8984/8984 [==============================] - 14s 2ms/step - loss: 0.0801 - precision: 0.9719 - val_loss: 0.1233 - val_precision: 0.9626\n",
            "Running split number  4\n",
            "Train on 8984 samples, validate on 2246 samples\n",
            "Epoch 1/6\n",
            "8984/8984 [==============================] - 24s 3ms/step - loss: 0.6499 - precision: 0.6911 - val_loss: 0.6394 - val_precision: 0.6254\n",
            "Epoch 2/6\n",
            "8984/8984 [==============================] - 14s 2ms/step - loss: 0.6236 - precision: 0.7292 - val_loss: 0.5949 - val_precision: 0.7396\n",
            "Epoch 3/6\n",
            "8984/8984 [==============================] - 14s 2ms/step - loss: 0.4139 - precision: 0.8618 - val_loss: 0.5079 - val_precision: 0.9223\n",
            "Epoch 4/6\n",
            "8984/8984 [==============================] - 14s 2ms/step - loss: 0.2353 - precision: 0.9238 - val_loss: 0.6356 - val_precision: 0.9433\n",
            "Epoch 5/6\n",
            "8984/8984 [==============================] - 14s 2ms/step - loss: 0.1674 - precision: 0.9428 - val_loss: 0.8752 - val_precision: 0.9688\n",
            "Epoch 6/6\n",
            "8984/8984 [==============================] - 14s 2ms/step - loss: 0.1316 - precision: 0.9615 - val_loss: 1.0190 - val_precision: 0.9767\n",
            "Running split number  5\n",
            "Train on 8984 samples, validate on 2246 samples\n",
            "Epoch 1/6\n",
            "8984/8984 [==============================] - 24s 3ms/step - loss: 0.6223 - precision: 0.6294 - val_loss: 0.6931 - val_precision: 0.0000e+00\n",
            "Epoch 2/6\n",
            "8984/8984 [==============================] - 14s 2ms/step - loss: 0.6121 - precision: 0.6652 - val_loss: 0.2820 - val_precision: 0.9344\n",
            "Epoch 3/6\n",
            "8984/8984 [==============================] - 14s 2ms/step - loss: 0.3511 - precision: 0.8645 - val_loss: 0.1447 - val_precision: 0.9305\n",
            "Epoch 4/6\n",
            "8984/8984 [==============================] - 14s 2ms/step - loss: 0.2346 - precision: 0.8951 - val_loss: 0.1295 - val_precision: 0.9337\n",
            "Epoch 5/6\n",
            "8984/8984 [==============================] - 14s 2ms/step - loss: 0.3491 - precision: 0.8544 - val_loss: 0.6427 - val_precision: 0.7428\n",
            "Epoch 6/6\n",
            "8984/8984 [==============================] - 14s 2ms/step - loss: 0.2706 - precision: 0.8915 - val_loss: 0.4569 - val_precision: 0.9179\n"
          ]
        }
      ],
      "source": [
        "Scores = cross_validation(x, y, 5, testing=False)"
      ]
    },
    {
      "cell_type": "code",
      "execution_count": 36,
      "metadata": {
        "colab": {
          "base_uri": "https://localhost:8080/",
          "height": 265
        },
        "colab_type": "code",
        "id": "fdRezmdcmVWF",
        "outputId": "462381a1-652e-477c-fa70-9e70634df9ea"
      },
      "outputs": [
        {
          "name": "stdout",
          "output_type": "stream",
          "text": [
            "[[[1074.    0.]\n",
            "  [  49. 1123.]]\n",
            "\n",
            " [[1081.  270.]\n",
            "  [  42.  853.]]\n",
            "\n",
            " [[1079.    0.]\n",
            "  [  44. 1123.]]\n",
            "\n",
            " [[1108.  556.]\n",
            "  [  15.  567.]]\n",
            "\n",
            " [[1046.  245.]\n",
            "  [  77.  878.]]]\n"
          ]
        }
      ],
      "source": [
        "print(Scores)"
      ]
    },
    {
      "cell_type": "code",
      "execution_count": 0,
      "metadata": {
        "colab": {},
        "colab_type": "code",
        "id": "Vn3UL85xUvZA"
      },
      "outputs": [],
      "source": []
    }
  ]
}